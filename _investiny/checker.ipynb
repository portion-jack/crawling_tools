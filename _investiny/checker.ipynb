{
 "cells": [
  {
   "cell_type": "code",
   "execution_count": null,
   "outputs": [],
   "source": [
    "# added in make_table_in_python.py\n",
    "\"\"\"\n",
    "import pymysql\n",
    "import pandas as pd\n",
    "\n",
    "from investiny import historical_data, search_assets\n",
    "nasdaq_top10 = ['AAPL', 'MSFT', 'GOOG', 'GOOGL', 'AMZN', 'TSLA', 'BRK/A', 'BRK/B', 'UNH', 'JNJ']\n",
    "kosdaq_top10 = ['Samsung Electronics Co Pref', 'Samsung Electronics Co', 'LG Energy Solution', 'SK Hynix Inc', 'LG Chem', 'Samsung Biologics', 'Hyundai Motor Co', 'Hyundai', 'Hyundai Motor Co Pref', 'LG Chemicals']\n",
    "# space underbar replace\n",
    "for i,kosdaq_top in enumerate(kosdaq_top10):\n",
    "    kosdaq_top10[i] = kosdaq_top.replace(' ','_')\n",
    "\n",
    "\n",
    "search_results = search_assets(query=\"AAPL\", limit=1, type=\"Stock\", exchange=\"NASDAQ\")\n",
    "investing_id = int(search_results[0][\"ticker\"]) # Assuming the first entry is the desired one (top result in Investing.com)\n",
    "data = historical_data(investing_id=investing_id,\n",
    "                       from_date=\"10/10/2022\",\n",
    "                       to_date=\"10/16/2022\")\n",
    "df=pd.DataFrame(data)\n",
    "\n",
    "\n",
    "for exchange,nas_kos in zip(['us','kr'],[nasdaq_top10,kosdaq_top10]):\n",
    "    for enterprice in nas_kos:\n",
    "        try:\n",
    "            conn = pymysql.connect(\n",
    "                               user='root',\n",
    "                               password='6569',\n",
    "                               db='stock',\n",
    "                               charset='utf8')\n",
    "\n",
    "            sql = f\"CREATE TABLE {exchange}_{enterprice}(\" \\\n",
    "                  f\"DATE    DATE    NOT NULL,\" \\\n",
    "                  f\"OPEN    FLOAT   NOT NULL,\" \\\n",
    "                  f\"HIGH    FLOAT   NOT NULL,\" \\\n",
    "                  f\"LOW     FLOAT   NOT NULL,\" \\\n",
    "                  f\"CLOSE   FLOAT   NOT NULL\" \\\n",
    "                  f\");\"\n",
    "            with conn:\n",
    "                with conn.cursor() as cur:\n",
    "                    cur.execute(sql)\n",
    "                    conn.commit()\n",
    "        except:\n",
    "            pass\n",
    "\"\"\""
   ],
   "metadata": {
    "collapsed": false,
    "pycharm": {
     "name": "#%%\n"
    }
   }
  }
 ],
 "metadata": {
  "kernelspec": {
   "display_name": "Python 3",
   "language": "python",
   "name": "python3"
  },
  "language_info": {
   "codemirror_mode": {
    "name": "ipython",
    "version": 2
   },
   "file_extension": ".py",
   "mimetype": "text/x-python",
   "name": "python",
   "nbconvert_exporter": "python",
   "pygments_lexer": "ipython2",
   "version": "2.7.6"
  }
 },
 "nbformat": 4,
 "nbformat_minor": 0
}
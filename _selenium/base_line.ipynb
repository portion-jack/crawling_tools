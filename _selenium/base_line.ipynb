{
 "cells": [
  {
   "cell_type": "code",
   "execution_count": 4,
   "metadata": {
    "collapsed": true,
    "pycharm": {
     "name": "#%%\n"
    }
   },
   "outputs": [
    {
     "name": "stderr",
     "output_type": "stream",
     "text": [
      "/var/folders/r1/58cpj4hx7j75vx_3j1y6vpvw0000gn/T/ipykernel_23433/1189099268.py:5: DeprecationWarning: executable_path has been deprecated, please pass in a Service object\n",
      "  driver = webdriver.Chrome(ChromeDriverManager().install())\n"
     ]
    },
    {
     "name": "stdout",
     "output_type": "stream",
     "text": [
      "파이낸셜뉴스\n",
      "1 :  감정가 280만원 짜리 중국 도자기, 프랑스 경매서 128억에 팔렸다\n",
      "2 :  '韓 관광객 감전사' 베트남 호텔 문닫았더니..사고 숨긴채 정상영업\n",
      "3 :  수원은 1865대1 vs 서울은 미달.. 혼돈의 줍줍시장\n",
      "4 :  [속보]대통령실 \"여가부 기능, 고용부와 복지부로 이관..기능 강화\"\n",
      "5 :  우크라, 루한스크 진입..러가 병합 선언한 4개주 탈환 시작\n",
      "한국경제\n",
      "1 :  \"제니도 신었다\" 10만원→60만원 껑충…아디다스 '대란'\n",
      "2 :  비키니녀, 엉덩이 만진 男 고소키로…넘어가 줬더니 '선 넘었다'\n",
      "3 :  알바 시작 5분 만에 봉지 꺼내더니…CCTV 보던 점주 깜짝\n",
      "4 :  정은경, 분당서울대병원 취업한다…연봉 약 8000만원\n",
      "5 :  백화점 앞에 이불 덮고 누웠다…'기현상' 벌어진 까닭 [이미경의 인사이트]\n",
      "SBS\n",
      "1 :  대전 오월드서 100일 맞은 백두산 호랑이 3남매 공개\n",
      "2 :  취업 5분 만에 '계산대 턴' 아르바이트생, 알고 보니 절도 전과\n",
      "3 :  경찰, 이동재 전 기자 명예훼손 혐의 김어준 불송치\n",
      "4 :  '이준석 추가 징계' 입장 묻자…윤 대통령 \"다른 질문 해달라\"\n",
      "5 :  \"불꽃 축제가 잘 보이는 우리집을 빌려 드립니다\"\n",
      "매일경제\n",
      "1 :  \"백신도 없는데 어쩌나\"…최소 30명 사망, 美 '발칵' 뒤집은 전염병의 정체\n",
      "2 :  고대생들 '몸짱 달력' 또 나왔다…중장년층 졸업생 등 30여명 참여\n",
      "3 :  [단독] '우리은행 707억 횡령범' 부모·지인에 준 189억 찾으러…檢, '1심 환송' 특별항소\n",
      "4 :  [단독] 탈원전·주52시간 직격탄에…신고리 5·6호기도 건설비 4천억 늘었다\n",
      "5 :  \"서민 전셋집 마련 숨통 트이나\" 11일부터 전세자금보증 한도 2억→4억\n",
      "조선일보\n",
      "1 :  “내가 횡령했다” 큰아들 감싼 박수홍 父, ‘친족상도례’ 적용 안된다?\n",
      "2 :  친이준석계 김용태 “윤핵관, 총선에 李 필요하면 공천 주려 할 것”\n",
      "3 :  흑석동 -6억, 성수동 -5억... 서울 전역서 신저가 거래 속출\n",
      "4 :  尹 지지율 1주일새 5%P 반등... “北미사일에 보수층 결집” [갤럽]\n",
      "5 :  트럼프, 이혼 2년후 전처와 피자 광고... 아내는 뒤늦게 알고 구토했다\n",
      "JTBC\n",
      "1 :  \"보트 타고 미국으로 탈출\" 푸틴 동원령에 러시아인 2명 미국 망명 신청\n",
      "2 :  대규모 정전 뜻밖의 범인…미 경찰 \"수컷 라쿤 체포\"\n",
      "3 :  정은경 전 질병청장, 4일부터 분당서울대병원 출근\n",
      "4 :  '이별 통보 전 여친 살해' 조현진, 징역 30년 확정…상고 포기\n",
      "5 :  윤 대통령 \"한·일, 좋았던 시절로 돌아가면 경제에 도움\"\n",
      "미디어오늘\n",
      "1 :  비속어 논란 \"대통령 부주의\" 65% 대통령실 MBC 대응 \"언론탄압\" 59%\n",
      "2 :  조선일보도 못마땅한 '윤석열차' 정부 대응 \"겸허해야\"\n",
      "3 :  동아 \"대통령실과 감사원 완전히 거꾸로 가고 있다\"\n",
      "4 :  광주·전남 지역 기자 5년간 '92명' 퇴사했다\n",
      "5 :  [영상] 박성중-고민정 충돌 \"방통위원장 소신 없고 비굴\" \"말이 아닌 얘기\"\n",
      "이데일리\n",
      "1 :  ‘박수홍, 친형을 쓰레기로…’ 형수 지인 악플에 전문가가 한 말\n",
      "2 :  박수홍 父 폭행 후 절규에 \"오! 주여\" 외친 친형\n",
      "3 :  진중권, 李 쫓아낸 국힘에 \"장예찬 이런 애 가지고 되겠나\"\n",
      "4 :  \"편파적이다\"…김건희 여사 측, 7시간 통화 '원본 파일' 요구\n",
      "5 :  김건희 여사 논문 꺼낸 英기자, \"윤석열차 표절? 거울 좀 보라\"\n",
      "헤럴드경제\n",
      "1 :  “코인으로 950억원 돈방석” 30살 한국 청년 왜 이러나\n",
      "2 :  \"군대 안 가려고\"...러시아男, 보트 타고 美알래스카로 망명\n",
      "3 :  “유튜브 ‘블랙핑크 뮤비’ 화질 다 깨진다?” 파문 확산, 무슨 일?\n",
      "4 :  정은경 전 질병청장, 연봉 8000 분당서울대병원 연구원으로 근무한다\n",
      "5 :  “이게 웬 난리?” 새 아이폰 뭐라고, 새벽부터 명동 시끌벅적\n",
      "KBS\n",
      "1 :  [탐사K] “깨끗하게 잘 사셨다” 연락 받은 2순위…국방부 “적격자 없다?”\n",
      "2 :  “1인당 3만 원씩 더”…골프장 장악한 ‘매크로’ 횡포\n",
      "3 :  [영상] 윤 대통령 “여가부 폐지, 여성 보호 위한 것…‘피해호소인’ 시각 탈피”\n",
      "4 :  ‘미국쌀 컵밥’ 우리쌀로 꼭 바꿔야 할까\n",
      "5 :  신규 확진 2만 2,298명…금요일 기준, 재유행 초기 13주 만에 최소 ‘최저’\n",
      "오마이뉴스\n",
      "1 :  '비속어 논란, 대통령 탓' 63%...지지율 29%, 60대 이상 결집\n",
      "2 :  전국 115개 여성단체 \"윤석열 대통령 맞서 끝장 투쟁\"\n",
      "3 :  이재명 \"한미일 합동훈련은 국방참사... 극단적 친일행위\"\n",
      "4 :  \"김건희 검증 교수가 표절? 허위사실\"... 피해교수, 정경희 고소\n",
      "5 :  윤 대통령이 기억해야 할 '감사원장' 이회창의 조언  [역사로 보는 오늘의 이슈]\n",
      "동아일보\n",
      "1 :  [단독]정은경 前질병청장, 분당서울대병원 취업\n",
      "2 :  이재명 “한미일 훈련은 극단 친일”…與 “국방 개념도 몰라”\n",
      "3 :  안철수 “수도권 사령관 나와야” vs 김기현 “입당 잉크도 안 말라”\n",
      "4 :  “근육운동으로 허리-무릎 통증 싹… ‘노하우’ 알려드려요”[양종구의 100세 시대 건강법]\n",
      "5 :  체어맨 타면서 22만원 ‘횟집 먹튀’…“자수 안 하면 얼굴 공개할 것”\n"
     ]
    }
   ],
   "source": [
    "import bs4\n",
    "from selenium import webdriver\n",
    "from webdriver_manager.chrome import ChromeDriverManager\n",
    "\n",
    "driver = webdriver.Chrome(ChromeDriverManager().install())\n",
    "url = \"https://news.naver.com/main/ranking/popularDay.naver\"\n",
    "driver.get(url)\n",
    "soup = bs4.BeautifulSoup(driver.page_source,features='html.parser')\n",
    "\n",
    "ranking_news = soup.find('div', class_=\"_officeCard _officeCard0\").find_all('div', class_='rankingnews_box')\n",
    "\n",
    "for news in ranking_news:\n",
    "    news_name = news.find('strong', class_='rankingnews_name').get_text(strip=True)\n",
    "    print(news_name)\n",
    "    for i, titles in enumerate(news.find_all('a', class_=\"list_title nclicks('RBP.rnknws')\")):\n",
    "        print(f\"{i + 1} : \", titles.get_text(strip=True))"
   ]
  },
  {
   "cell_type": "code",
   "execution_count": null,
   "outputs": [],
   "source": [],
   "metadata": {
    "collapsed": false,
    "pycharm": {
     "name": "#%%\n"
    }
   }
  }
 ],
 "metadata": {
  "kernelspec": {
   "display_name": "Python 3",
   "language": "python",
   "name": "python3"
  },
  "language_info": {
   "codemirror_mode": {
    "name": "ipython",
    "version": 2
   },
   "file_extension": ".py",
   "mimetype": "text/x-python",
   "name": "python",
   "nbconvert_exporter": "python",
   "pygments_lexer": "ipython2",
   "version": "2.7.6"
  }
 },
 "nbformat": 4,
 "nbformat_minor": 0
}
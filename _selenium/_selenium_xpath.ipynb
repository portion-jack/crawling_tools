{
 "cells": [
  {
   "cell_type": "code",
   "execution_count": 36,
   "metadata": {},
   "outputs": [],
   "source": [
    "import time"
   ]
  },
  {
   "cell_type": "code",
   "execution_count": 15,
   "metadata": {},
   "outputs": [],
   "source": [
    "\n",
    "import selenium\n",
    "from selenium import webdriver\n",
    "from selenium.webdriver.chrome.service import Service\n",
    "from selenium.webdriver.common.by import By \n",
    "import bs4"
   ]
  },
  {
   "cell_type": "code",
   "execution_count": null,
   "metadata": {},
   "outputs": [],
   "source": [
    "\n",
    "url = \"https://dart.fss.or.kr/dsac001/mainAll.do?selectDate=&sort=&series=&mdayCnt=0\"\n",
    "\n",
    "d_path = r\"/Users/jack/utils/chromedriver\"\n",
    "\n",
    "s = Service(d_path)\n",
    "driver = webdriver.Chrome(service=s)\n",
    "driver.get(url=url)\n",
    "driver.implicitly_wait(2)\n",
    "driver.set_window_size(1600,800)\n",
    "driver.close()"
   ]
  },
  {
   "cell_type": "markdown",
   "metadata": {},
   "source": [
    "## Back to Dart"
   ]
  },
  {
   "cell_type": "code",
   "execution_count": 2,
   "metadata": {},
   "outputs": [],
   "source": [
    "import re\n",
    "import datetime "
   ]
  },
  {
   "cell_type": "code",
   "execution_count": 12,
   "metadata": {},
   "outputs": [],
   "source": [
    "date_year = 2022\n",
    "date_month = 4\n",
    "date_day = 26\n",
    "\n",
    "date = datetime.datetime(date_year,date_month,date_day)\n",
    "dateYYYYMMDD=date.strftime(\"%Y.%m.%d\")"
   ]
  },
  {
   "cell_type": "code",
   "execution_count": 13,
   "metadata": {},
   "outputs": [
    {
     "data": {
      "text/plain": [
       "'https://dart.fss.or.kr/dsac001/mainAll.do?selectDate=2022.04.26&sort=&series=&mdayCnt=0'"
      ]
     },
     "execution_count": 13,
     "metadata": {},
     "output_type": "execute_result"
    }
   ],
   "source": [
    "url = \"https://dart.fss.or.kr/dsac001/mainAll.do?selectDate=\"\n",
    "url = url + dateYYYYMMDD + \"&sort=&series=&mdayCnt=0\"\n",
    "url"
   ]
  },
  {
   "cell_type": "code",
   "execution_count": 16,
   "metadata": {},
   "outputs": [],
   "source": [
    "d_path = r\"/Users/jack/utils/chromedriver\"\n",
    "\n",
    "s = Service(d_path)\n",
    "driver = webdriver.Chrome(service=s)\n",
    "driver.get(url=url)\n",
    "driver.implicitly_wait(2)\n",
    "\n",
    "# driver.close()\n"
   ]
  },
  {
   "cell_type": "code",
   "execution_count": 20,
   "metadata": {},
   "outputs": [],
   "source": [
    "\"\"\"\n",
    "selector = listContents > div.tbListInner > table > tbody > tr:nth-child(1) > td:nth-child(1)\n",
    "\n",
    "xpath = //*[@id=\"listContents\"]/div[2]/table/tbody/tr[1]/td[1]\n",
    "full_xpath = /html/body/div[4]/div[2]/div[1]/div[2]/div[3]/div[2]/table/tbody/tr[1]/td[1]\n",
    "\"\"\"\n",
    "\n",
    "b_path = \"\"\"//*[@id=\"listContents\"]/div[2]/table/tbody/tr[1]/td[1]\"\"\"\n",
    "b_path_2 = \"\"\"//*[@id=\"listContents\"]/div[2]/table/tbody/tr[2]/td[1]\"\"\"\n",
    "temp = driver.find_element(by=By.XPATH, value=b_path)"
   ]
  },
  {
   "cell_type": "code",
   "execution_count": 23,
   "metadata": {},
   "outputs": [
    {
     "data": {
      "text/plain": [
       "<selenium.webdriver.remote.webelement.WebElement (session=\"3d7400827a8fab9390192e295ffff4fe\", element=\"04aec08e-b549-4ae3-8c57-595bb68fcb5e\")>"
      ]
     },
     "execution_count": 23,
     "metadata": {},
     "output_type": "execute_result"
    }
   ],
   "source": [
    "\n",
    "temp"
   ]
  },
  {
   "cell_type": "code",
   "execution_count": 24,
   "metadata": {},
   "outputs": [
    {
     "data": {
      "text/plain": [
       "'19:25'"
      ]
     },
     "execution_count": 24,
     "metadata": {},
     "output_type": "execute_result"
    }
   ],
   "source": [
    "temp.text"
   ]
  },
  {
   "cell_type": "code",
   "execution_count": 26,
   "metadata": {},
   "outputs": [
    {
     "data": {
      "text/plain": [
       "'멜파스'"
      ]
     },
     "execution_count": 26,
     "metadata": {},
     "output_type": "execute_result"
    }
   ],
   "source": [
    "n_path = \"\"\"//*[@id=\"listContents\"]/div[2]/table/tbody/tr[1]/td[2]/span/a\"\"\"\n",
    "temp = driver.find_element(by=By.XPATH,value=n_path)\n",
    "temp.text"
   ]
  },
  {
   "cell_type": "code",
   "execution_count": 29,
   "metadata": {},
   "outputs": [
    {
     "data": {
      "text/plain": [
       "\"javascript:openCorpInfoNew('00609315', 'winCorpInfo', '/dsae001/selectPopup.ax');\""
      ]
     },
     "execution_count": 29,
     "metadata": {},
     "output_type": "execute_result"
    }
   ],
   "source": [
    "temp.get_attribute('href')"
   ]
  },
  {
   "cell_type": "code",
   "execution_count": 31,
   "metadata": {},
   "outputs": [
    {
     "data": {
      "text/plain": [
       "'멜파스 기업개황 새창'"
      ]
     },
     "execution_count": 31,
     "metadata": {},
     "output_type": "execute_result"
    }
   ],
   "source": [
    "temp.get_attribute('title')"
   ]
  },
  {
   "cell_type": "code",
   "execution_count": 32,
   "metadata": {},
   "outputs": [
    {
     "data": {
      "text/plain": [
       "'[기재정정]기타시장안내(최대주주의의무보유관련)'"
      ]
     },
     "execution_count": 32,
     "metadata": {},
     "output_type": "execute_result"
    }
   ],
   "source": [
    "r_path = \"\"\"/html/body/div[4]/div[2]/div[1]/div[2]/div[3]/div[2]/table/tbody/tr[1]/td[3]/a\"\"\"\n",
    "temp = driver.find_element(by=By.XPATH,value=r_path)\n",
    "temp.text"
   ]
  },
  {
   "cell_type": "code",
   "execution_count": 33,
   "metadata": {},
   "outputs": [
    {
     "data": {
      "text/plain": [
       "'r_20220426900674'"
      ]
     },
     "execution_count": 33,
     "metadata": {},
     "output_type": "execute_result"
    }
   ],
   "source": [
    "temp.get_attribute(\"id\")"
   ]
  },
  {
   "cell_type": "code",
   "execution_count": 34,
   "metadata": {},
   "outputs": [
    {
     "data": {
      "text/plain": [
       "[<selenium.webdriver.remote.webelement.WebElement (session=\"3d7400827a8fab9390192e295ffff4fe\", element=\"189d6a6d-cdf9-48f5-bd2a-57cd663d78b9\")>,\n",
       " <selenium.webdriver.remote.webelement.WebElement (session=\"3d7400827a8fab9390192e295ffff4fe\", element=\"a43117c5-bd00-487d-af40-4c7ba6de7015\")>,\n",
       " <selenium.webdriver.remote.webelement.WebElement (session=\"3d7400827a8fab9390192e295ffff4fe\", element=\"f58dcb19-7cff-4bd3-a663-49b5c7560046\")>,\n",
       " <selenium.webdriver.remote.webelement.WebElement (session=\"3d7400827a8fab9390192e295ffff4fe\", element=\"a259cc71-0b3a-47b7-b284-e127e82ceb19\")>,\n",
       " <selenium.webdriver.remote.webelement.WebElement (session=\"3d7400827a8fab9390192e295ffff4fe\", element=\"2a6873ef-b35b-46f6-8eb4-d60fbcc5c443\")>]"
      ]
     },
     "execution_count": 34,
     "metadata": {},
     "output_type": "execute_result"
    }
   ],
   "source": [
    "\"\"\"\n",
    "page move\n",
    "# 2_page\n",
    "//*[@id=\"listContents\"]/div[3]/div[2]/ul/li[2]/a\n",
    "# 3_page\n",
    "//*[@id=\"listContents\"]/div[3]/div[2]/ul/li[3]/a\n",
    "\"\"\"\n",
    "\n",
    "# 넘어갈 수 있는 페이지 개수?\n",
    "\n",
    "driver.find_element(by=By.XPATH, value=\"\"\"//*[@id=\"listContents\"]/div[3]/div[2]/ul\"\"\")\\\n",
    "    .find_elements(By.TAG_NAME, value='li')\n"
   ]
  },
  {
   "cell_type": "code",
   "execution_count": 35,
   "metadata": {},
   "outputs": [
    {
     "data": {
      "text/plain": [
       "5"
      ]
     },
     "execution_count": 35,
     "metadata": {},
     "output_type": "execute_result"
    }
   ],
   "source": [
    "len(driver.find_element(by=By.XPATH, value=\"\"\"//*[@id=\"listContents\"]/div[3]/div[2]/ul\"\"\")\\\n",
    "    .find_elements(By.TAG_NAME, value='li'))"
   ]
  },
  {
   "cell_type": "code",
   "execution_count": 37,
   "metadata": {},
   "outputs": [],
   "source": [
    "next_page = \"\"\"//*[@id=\"listContents\"]/div[3]/div[2]/ul/li[2]/a\"\"\"\n",
    "driver.find_element(By.XPATH,next_page).click()\n",
    "time.sleep(2)"
   ]
  },
  {
   "cell_type": "code",
   "execution_count": 38,
   "metadata": {},
   "outputs": [],
   "source": [
    "driver.quit()"
   ]
  }
 ],
 "metadata": {
  "kernelspec": {
   "display_name": "Python 3.10.6 ('crawling')",
   "language": "python",
   "name": "python3"
  },
  "language_info": {
   "codemirror_mode": {
    "name": "ipython",
    "version": 3
   },
   "file_extension": ".py",
   "mimetype": "text/x-python",
   "name": "python",
   "nbconvert_exporter": "python",
   "pygments_lexer": "ipython3",
   "version": "3.10.6"
  },
  "orig_nbformat": 4,
  "vscode": {
   "interpreter": {
    "hash": "10621530bc52bc3dcaea48e2b7ef028942e35d2e6e9c9234a88fefd069caf90f"
   }
  }
 },
 "nbformat": 4,
 "nbformat_minor": 2
}
